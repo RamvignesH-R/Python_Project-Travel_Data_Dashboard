import pandas as pd
from sqlalchemy import create_engine

# Replace these variables with your actual database credentials
DB_TYPE = 'mysql'  # or 'postgresql', 'sqlite', etc.
DB_DRIVER = 'pymysql'  # or appropriate driver for your database
DB_USER = 'root'
DB_PASS = 'R1a2m3$%^'
DB_HOST = 'localhost'
DB_PORT = '3306'
DB_NAME = 'traveldb'

# Create the database engine
DATABASE_URL = f"{DB_TYPE}+{DB_DRIVER}://{DB_USER}:{DB_PASS}@{DB_HOST}:{DB_PORT}/{DB_NAME}"
engine = create_engine(DATABASE_URL)

# Write the SQL query to retrieve the Searches data
query = """
SELECT `Searches`
FROM `All-time Table-All Cities`;
"""

# Execute the query and load the result into a DataFrame
df = pd.read_sql(query, engine)

# Remove the last cell of the 'Searches' column
if not df.empty:
    total_searches_without_last = df['Searches'].iloc[:-1].sum()
else:
    total_searches_without_last = 0

print("Total Searches excluding the last cell:", total_searches_without_last)
